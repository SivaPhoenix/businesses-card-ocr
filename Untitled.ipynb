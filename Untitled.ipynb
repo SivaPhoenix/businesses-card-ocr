{
 "cells": [
  {
   "cell_type": "code",
   "execution_count": 2,
   "id": "eb065be6",
   "metadata": {},
   "outputs": [
    {
     "name": "stdout",
     "output_type": "stream",
     "text": [
      "{'Name': 'Payee v', 'Address': None, 'Phone': None, 'Mobile': None, 'Company': 'fad company  DANI MARTINEZ  FINANCE MANAGER  922-456-7090  Qin coaigroatste com  Gretisireatyereastecamn  125 pero 8 Any Gy, ST 1245 ', 'Job': None, 'Email': None, 'Web': None}\n"
     ]
    }
   ],
   "source": [
    "import cv2\n",
    "import pytesseract\n",
    "from pytesseract import Output\n",
    "import re\n",
    "\n",
    "# Path to tesseract executable\n",
    "pytesseract.pytesseract.tesseract_cmd = r'C:\\Program Files\\Tesseract-OCR\\tesseract.exe' # Update this path as needed\n",
    "\n",
    "# Load and preprocess the image\n",
    "def preprocess_image(image_path):\n",
    "    image = cv2.imread(image_path)\n",
    "    gray = cv2.cvtColor(image, cv2.COLOR_BGR2GRAY)\n",
    "    gray = cv2.threshold(gray, 0, 255, cv2.THRESH_BINARY | cv2.THRESH_OTSU)[1]\n",
    "    return gray\n",
    "\n",
    "# Extract raw text using Tesseract\n",
    "def extract_text(image):\n",
    "    custom_config = r'--oem 3 --psm 6'\n",
    "    text = pytesseract.image_to_string(image, config=custom_config)\n",
    "    return text\n",
    "\n",
    "# Function to parse extracted text\n",
    "def parse_text(text):\n",
    "    result = {\n",
    "        'Name': None,\n",
    "        'Address': None,\n",
    "        'Phone': None,\n",
    "        'Mobile': None,\n",
    "        'Company': None,\n",
    "        'Job': None,\n",
    "        'Email': None,\n",
    "        'Web': None\n",
    "    }\n",
    "\n",
    "    # Regex patterns for different fields\n",
    "    patterns = {\n",
    "        'Phone': r'Phone|phone|Tel|tel|Telephone|telephone|T:',\n",
    "        'Mobile': r'Mobile|mobile|Cell|cell|M:',\n",
    "        'Email': r'\\b[A-Z0-9._%+-]+@[A-Z0-9.-]+\\.[A-Z]{2,}\\b',\n",
    "        'Web': r'\\b(?:http://|www\\.)\\S+\\b'\n",
    "    }\n",
    "\n",
    "    lines = text.split('\\n')\n",
    "    for line in lines:\n",
    "        if re.search(patterns['Phone'], line, re.I):\n",
    "            result['Phone'] = line\n",
    "        elif re.search(patterns['Mobile'], line, re.I):\n",
    "            result['Mobile'] = line\n",
    "        elif re.search(patterns['Email'], line, re.I):\n",
    "            result['Email'] = line\n",
    "        elif re.search(patterns['Web'], line, re.I):\n",
    "            result['Web'] = line\n",
    "        elif result['Name'] is None:\n",
    "            result['Name'] = line.strip()  # Assuming the first line is the name\n",
    "        else:\n",
    "            result['Company'] = line.strip() if result['Company'] is None else result['Company'] + ' ' + line.strip()\n",
    "\n",
    "    # Further refine the parsing if needed\n",
    "    return result\n",
    "\n",
    "def ocr_business_card(image_path):\n",
    "    image = preprocess_image(image_path)\n",
    "    text = extract_text(image)\n",
    "    return parse_text(text)\n",
    "\n",
    "# Example usage\n",
    "image_path = './download.png'\n",
    "result = ocr_business_card(image_path)\n",
    "print(result)\n"
   ]
  },
  {
   "cell_type": "code",
   "execution_count": null,
   "id": "a38f75f1",
   "metadata": {},
   "outputs": [],
   "source": []
  }
 ],
 "metadata": {
  "kernelspec": {
   "display_name": "Python 3 (ipykernel)",
   "language": "python",
   "name": "python3"
  },
  "language_info": {
   "codemirror_mode": {
    "name": "ipython",
    "version": 3
   },
   "file_extension": ".py",
   "mimetype": "text/x-python",
   "name": "python",
   "nbconvert_exporter": "python",
   "pygments_lexer": "ipython3",
   "version": "3.9.13"
  }
 },
 "nbformat": 4,
 "nbformat_minor": 5
}
